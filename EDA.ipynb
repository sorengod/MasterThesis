{
  "nbformat": 4,
  "nbformat_minor": 0,
  "metadata": {
    "colab": {
      "provenance": [],
      "authorship_tag": "ABX9TyNni3Kzr59iKphYE3LgWHEU",
      "include_colab_link": true
    },
    "kernelspec": {
      "name": "python3",
      "display_name": "Python 3"
    },
    "language_info": {
      "name": "python"
    }
  },
  "cells": [
    {
      "cell_type": "markdown",
      "metadata": {
        "id": "view-in-github",
        "colab_type": "text"
      },
      "source": [
        "<a href=\"https://colab.research.google.com/github/sorengod/MasterThesis/blob/main/EDA.ipynb\" target=\"_parent\"><img src=\"https://colab.research.google.com/assets/colab-badge.svg\" alt=\"Open In Colab\"/></a>"
      ]
    },
    {
      "cell_type": "code",
      "execution_count": 362,
      "metadata": {
        "id": "29ln0nURgtjn"
      },
      "outputs": [],
      "source": [
        "import pandas as pd\n",
        "from matplotlib import pyplot, dates\n",
        "import datetime as dt\n"
      ]
    },
    {
      "cell_type": "code",
      "source": [
        "df = pd.read_parquet('Spot_Prices.parq')\n",
        "df.to_excel('Spot_Prices_From_Parquet.xlsx')\n",
        "df = pd.read_excel('Spot_Prices_From_Parquet.xlsx')\n",
        "df[['HourDK']] = df[['HourDK']].apply(pd.to_datetime)\n",
        "#df = df.set_index('HourDK')"
      ],
      "metadata": {
        "id": "OIZYwwtEYCWP"
      },
      "execution_count": 258,
      "outputs": []
    },
    {
      "cell_type": "code",
      "source": [
        "class Time_Series:\n",
        "\n",
        "    def __init__ (self, df:pd.DataFrame, DateColumn='HourDK'):\n",
        "        self.DateColumn = 'HourDK'\n",
        "        self.df = df\n",
        "        self.df.set_index('HourDK')\n",
        "\n",
        "    def extract_date_columns(self):\n",
        "        #self.df = self.df.set_index(self.DateColumn)\n",
        "        self.df['Year'] = self.df[self.DateColumn].dt.year\n",
        "        self.df['Month'] = self.df[self.DateColumn].dt.month\n",
        "        self.df['Date'] = self.df[self.DateColumn].dt.date\n",
        "        self.df['Day_Of_Week'] = self.df[self.DateColumn].dt.strftime('%A')\n",
        "        self.df.set_index('HourDK')\n",
        "        return self.df\n",
        "    \n",
        "    def plot_prices(self, PriceAreas = []):\n",
        "      self.df = self.df.set_index(self.DateColumn)\n",
        "      for PriceArea in PriceAreas:\n",
        "        self.df.plot(y=PriceArea, use_index=True, figsize=(25,2), linewidth='.5', color = 'k')\n",
        "    \n",
        "    def plot_resample(self, Period:str, PriceAreas = []):\n",
        "      help_df = self.df\n",
        "      help_df = help_df.set_index(self.DateColumn)\n",
        "      for PriceArea in PriceAreas:\n",
        "        plot_data = pd.DataFrame(data=help_df, columns = [PriceArea])\n",
        "        plot_data.resample(Period).mean().plot(y=PriceArea, use_index=True, figsize=(25,2), linewidth='.5', color = 'k')\n",
        "\n",
        "object = Time_Series(df)"
      ],
      "metadata": {
        "id": "7ftz9QTLvkXd"
      },
      "execution_count": 372,
      "outputs": []
    },
    {
      "cell_type": "code",
      "source": [
        "object.plot_prices(['DK1', 'DK2', 'NO2', 'SE3', 'SE4'])"
      ],
      "metadata": {
        "id": "GHfeXyFyeyU9"
      },
      "execution_count": null,
      "outputs": []
    },
    {
      "cell_type": "code",
      "source": [
        "object.plot_resample('1D', ['DK1', 'DK2', 'NO2', 'SE3', 'SE4'])"
      ],
      "metadata": {
        "id": "_sWGSs1Ai9S4"
      },
      "execution_count": null,
      "outputs": []
    }
  ]
}