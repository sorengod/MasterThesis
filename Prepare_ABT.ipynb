{
  "nbformat": 4,
  "nbformat_minor": 0,
  "metadata": {
    "colab": {
      "provenance": [],
      "authorship_tag": "ABX9TyP21uPrvXQmQ+sAwEzpzj4I",
      "include_colab_link": true
    },
    "kernelspec": {
      "name": "python3",
      "display_name": "Python 3"
    },
    "language_info": {
      "name": "python"
    }
  },
  "cells": [
    {
      "cell_type": "markdown",
      "metadata": {
        "id": "view-in-github",
        "colab_type": "text"
      },
      "source": [
        "<a href=\"https://colab.research.google.com/github/sorengod/MasterThesis/blob/main/Prepare_ABT.ipynb\" target=\"_parent\"><img src=\"https://colab.research.google.com/assets/colab-badge.svg\" alt=\"Open In Colab\"/></a>"
      ]
    },
    {
      "cell_type": "code",
      "execution_count": 169,
      "metadata": {
        "id": "Y1kZfVm9PgNd"
      },
      "outputs": [],
      "source": [
        "import pandas as pd"
      ]
    },
    {
      "cell_type": "code",
      "source": [
        "Spot_Prices = pd.read_parquet(\"Spot_Prices.parq\")\n",
        "Import_Export = pd.read_parquet(\"ExportCapacity.parq\")\n",
        "Import_Capacity = pd.read_parquet(\"ImportCapacity.parq\")\n",
        "MeanWindPower1h_Anholdt = pd.read_pickle(\"MeanWindPower1h_Anholdt.pkl\")\n",
        "MeanWindPower1h_Blåvand = pd.read_pickle(\"MeanWindPower1h_Blåvand.pkl\")\n",
        "MeanWindPower1h_Gedser = pd.read_pickle(\"MeanWindPower1h_Gedser.pkl\")\n",
        "MeanWindPower1h_Køge = pd.read_pickle(\"MeanWindPower1h_Køge.pkl\")\n",
        "Production_Consumption_DK1 = pd.read_pickle(\"Production&Consumption_DK1.pkl\")\n",
        "Production_Consumption_DK2 = pd.read_pickle(\"Production&Consumption_DK2.pkl\")\n",
        "ScheduledExchangeDayAhead = pd.read_parquet(\"ScheduledExchangeDayAhead.parq\")\n",
        " "
      ],
      "metadata": {
        "id": "UIZVgJCXQJb7"
      },
      "execution_count": 170,
      "outputs": []
    },
    {
      "cell_type": "markdown",
      "source": [
        "# Prepare Import_Export\n"
      ],
      "metadata": {
        "id": "F9YNHNPW-0uj"
      }
    },
    {
      "cell_type": "code",
      "source": [
        "Import_Export = Import_Export.drop(['HourUTC', 'PhysicalExchangeNonvalidated', 'PhysicalExchangeSettlement', \n",
        "                                    'CongestionIncomeDKK', 'HomePriceDKK', 'ConnectedPriceDKK', \n",
        "                                    'CongestionIncomeEUR', 'HomePriceEUR', 'ConnectedPriceEUR'\n",
        "                                    , 'ImportCapacity', 'ExportCapacity'], axis=1)\n"
      ],
      "metadata": {
        "id": "RMSDBJUxeERt"
      },
      "execution_count": 171,
      "outputs": []
    },
    {
      "cell_type": "code",
      "source": [
        "def prepare_Import_Export(Import_Export_df:pd.DataFrame, GridFlow:str): \n",
        "  converted_GridFlowStr = GridFlow.replace(\"-->\", \"_\")\n",
        "  df = Import_Export_df[Import_Export_df[\"GridFlow\"].isin([f\"{GridFlow}\"])]\n",
        "  df = df.rename(columns={\"ScheduledExchangeDayAhead\":f\"ScheduledExchangeDayAhead_{converted_GridFlowStr}\"})                                   \n",
        "  df = df.drop([\"GridFlow\", \"ScheduledExchangeIntraday\"], axis=1)\n",
        "  return df"
      ],
      "metadata": {
        "id": "FByuj2wHuFv3"
      },
      "execution_count": 172,
      "outputs": []
    },
    {
      "cell_type": "code",
      "source": [
        "Import_Export_DK1_DE = prepare_Import_Export(Import_Export_df=Import_Export, GridFlow=\"DK1-->DE\")\n",
        "Import_Export_DK1_DK2 = prepare_Import_Export(Import_Export_df=Import_Export, GridFlow=\"DK1-->DK2\")\n",
        "Import_Export_DK1_NO2 = prepare_Import_Export(Import_Export_df=Import_Export, GridFlow=\"DK1-->NO2\")\n",
        "Import_Export_DK1_SE3 = prepare_Import_Export(Import_Export_df=Import_Export, GridFlow=\"DK1-->SE3\")\n",
        "Import_Export_DK2_DE = prepare_Import_Export(Import_Export_df=Import_Export, GridFlow=\"DK2-->DE\")\n",
        "Import_Export_DK2_DK1 = prepare_Import_Export(Import_Export_df=Import_Export, GridFlow=\"DK2-->DK1\")\n",
        "Import_Export_DK2_SE4 = prepare_Import_Export(Import_Export_df=Import_Export, GridFlow=\"DK2-->SE4\")\n",
        "Import_Export_DK1_NL = prepare_Import_Export(Import_Export_df=Import_Export, GridFlow=\"DK1-->NL\")"
      ],
      "metadata": {
        "id": "AEv-4Al0unjQ"
      },
      "execution_count": 173,
      "outputs": []
    },
    {
      "cell_type": "code",
      "source": [
        "Import_Export_prepard = Import_Export_DK1_DK2.merge(Import_Export_DK1_DE, left_on='HourDK', right_on='HourDK', how='left')\n",
        "Import_Export_prepard = Import_Export_prepard.merge(Import_Export_DK1_NO2, left_on='HourDK', right_on='HourDK', how='left')\n",
        "Import_Export_prepard = Import_Export_prepard.merge(Import_Export_DK1_SE3, left_on='HourDK', right_on='HourDK', how='left')\n",
        "Import_Export_prepard = Import_Export_prepard.merge(Import_Export_DK2_DE, left_on='HourDK', right_on='HourDK', how='left')\n",
        "Import_Export_prepard = Import_Export_prepard.merge(Import_Export_DK2_SE4, left_on='HourDK', right_on='HourDK', how='left')\n",
        "Import_Export_prepard = Import_Export_prepard.merge(Import_Export_DK1_NL, left_on='HourDK', right_on='HourDK', how='left')\n",
        "\n",
        "Import_Export_prepared = Import_Export_prepard.round(2)"
      ],
      "metadata": {
        "id": "ZqmZUercvlLn"
      },
      "execution_count": 174,
      "outputs": []
    },
    {
      "cell_type": "code",
      "source": [
        "Import_Export_prepared"
      ],
      "metadata": {
        "id": "85CUfOl1ACS4"
      },
      "execution_count": null,
      "outputs": []
    },
    {
      "cell_type": "markdown",
      "source": [
        "#Prepare Wind Data\n"
      ],
      "metadata": {
        "id": "im6L2kEEBxih"
      }
    },
    {
      "cell_type": "code",
      "source": [
        "MeanWindPower1h_Anholdt\n",
        "\n",
        "def prepare_wind_data(MeanWindPower_df:pd.DataFrame, placement:str):\n",
        "  location = str(placement)\n",
        "  df = MeanWindPower_df\n",
        "  df = df.drop([\"created\", \"parameterId\", \"stationId\"], axis=1)\n",
        "  df = df.rename(columns={\"value\" : f\"value_{location}\"})\n",
        "  return df"
      ],
      "metadata": {
        "id": "xiS0d8RiB1GJ"
      },
      "execution_count": 176,
      "outputs": []
    },
    {
      "cell_type": "code",
      "source": [
        "Wind_Anholdt = prepare_wind_data(MeanWindPower1h_Anholdt, \"Anholdt\")\n",
        "Wind_Blåvand = prepare_wind_data(MeanWindPower1h_Blåvand, \"Blåvand\")\n",
        "Wind_Gedser = prepare_wind_data(MeanWindPower1h_Gedser, \"Gedser\")\n",
        "Wind_Køge = prepare_wind_data(MeanWindPower1h_Køge, \"Køge\")"
      ],
      "metadata": {
        "id": "XA3m2_daCU2M"
      },
      "execution_count": 177,
      "outputs": []
    },
    {
      "cell_type": "code",
      "source": [
        "wind_prepared = Wind_Gedser.merge(Wind_Anholdt, left_on=\"observed\", right_on=\"observed\", how='left')\n",
        "wind_prepared = wind_prepared.merge(Wind_Blåvand, left_on=\"observed\", right_on=\"observed\", how='left')\n",
        "wind_prepared = wind_prepared.merge(Wind_Køge, left_on=\"observed\", right_on=\"observed\",how='left')"
      ],
      "metadata": {
        "id": "JrtR_hb0Cg88"
      },
      "execution_count": 178,
      "outputs": []
    },
    {
      "cell_type": "code",
      "source": [
        "wind_prepared"
      ],
      "metadata": {
        "id": "QrisVSt_ErbH"
      },
      "execution_count": null,
      "outputs": []
    },
    {
      "cell_type": "markdown",
      "source": [
        "#Prepare Production And Consumption"
      ],
      "metadata": {
        "id": "yCP9vqJxFGY2"
      }
    },
    {
      "cell_type": "code",
      "source": [
        "Production_Consumption_DK1.drop(columns=[\"HourUTC\", \"PriceArea\", \"ExchangeNO_MWh\", \"ExchangeSE_MWh\", \"ExchangeGE_MWh\", \"ExchangeNL_MWh\", \"ExchangeGreatBelt_MWh\"], axis=1)"
      ],
      "metadata": {
        "id": "HXglVXmUFJMg"
      },
      "execution_count": null,
      "outputs": []
    },
    {
      "cell_type": "markdown",
      "source": [
        "#Prepare ABT"
      ],
      "metadata": {
        "id": "SsI8ipFGIMPc"
      }
    },
    {
      "cell_type": "code",
      "source": [
        "abt = Spot_Prices.merge(Import_Export_prepared, left_on=\"HourDK\", right_on=\"HourDK\", how='left')\n",
        "abt = abt.merge(Production_Consumption_DK1, left_on=\"HourDK\", right_on=\"HourDK\", how='left')"
      ],
      "metadata": {
        "id": "hf46vtyWIOD6"
      },
      "execution_count": 189,
      "outputs": []
    },
    {
      "cell_type": "code",
      "source": [
        "abt = abt.merge(wind_prepared, left_on=\"HourDK\", right_on=\"observed\", how='left')"
      ],
      "metadata": {
        "id": "M3uKJoeFKBNS"
      },
      "execution_count": 192,
      "outputs": []
    },
    {
      "cell_type": "code",
      "source": [
        "abt.to_pickle(\"abt.pkl\")"
      ],
      "metadata": {
        "id": "N4agRK9xIivg"
      },
      "execution_count": 196,
      "outputs": []
    },
    {
      "cell_type": "code",
      "source": [
        "from google.colab import files\n",
        "files.download('abt.pkl') "
      ],
      "metadata": {
        "colab": {
          "base_uri": "https://localhost:8080/",
          "height": 17
        },
        "id": "OsVDoA_wUWH7",
        "outputId": "3f35eba8-5c93-4a66-bb3b-3a6c82b40a99"
      },
      "execution_count": 197,
      "outputs": [
        {
          "output_type": "display_data",
          "data": {
            "text/plain": [
              "<IPython.core.display.Javascript object>"
            ],
            "application/javascript": [
              "\n",
              "    async function download(id, filename, size) {\n",
              "      if (!google.colab.kernel.accessAllowed) {\n",
              "        return;\n",
              "      }\n",
              "      const div = document.createElement('div');\n",
              "      const label = document.createElement('label');\n",
              "      label.textContent = `Downloading \"${filename}\": `;\n",
              "      div.appendChild(label);\n",
              "      const progress = document.createElement('progress');\n",
              "      progress.max = size;\n",
              "      div.appendChild(progress);\n",
              "      document.body.appendChild(div);\n",
              "\n",
              "      const buffers = [];\n",
              "      let downloaded = 0;\n",
              "\n",
              "      const channel = await google.colab.kernel.comms.open(id);\n",
              "      // Send a message to notify the kernel that we're ready.\n",
              "      channel.send({})\n",
              "\n",
              "      for await (const message of channel.messages) {\n",
              "        // Send a message to notify the kernel that we're ready.\n",
              "        channel.send({})\n",
              "        if (message.buffers) {\n",
              "          for (const buffer of message.buffers) {\n",
              "            buffers.push(buffer);\n",
              "            downloaded += buffer.byteLength;\n",
              "            progress.value = downloaded;\n",
              "          }\n",
              "        }\n",
              "      }\n",
              "      const blob = new Blob(buffers, {type: 'application/binary'});\n",
              "      const a = document.createElement('a');\n",
              "      a.href = window.URL.createObjectURL(blob);\n",
              "      a.download = filename;\n",
              "      div.appendChild(a);\n",
              "      a.click();\n",
              "      div.remove();\n",
              "    }\n",
              "  "
            ]
          },
          "metadata": {}
        },
        {
          "output_type": "display_data",
          "data": {
            "text/plain": [
              "<IPython.core.display.Javascript object>"
            ],
            "application/javascript": [
              "download(\"download_f27d5a8c-cb34-4212-b741-61c8f0fc64e9\", \"abt.pkl\", 17230969)"
            ]
          },
          "metadata": {}
        }
      ]
    }
  ]
}